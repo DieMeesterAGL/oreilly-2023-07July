{
 "cells": [
  {
   "cell_type": "markdown",
   "id": "2ccabbdb-1b11-4986-9245-d73c02966955",
   "metadata": {},
   "source": [
    "# Agenda, week 5: Modules and packages\n",
    "\n",
    "1. Review of the challenge\n",
    "2. Q&A\n",
    "3. What are modules?\n",
    "4. Using `import` to retrieve data from modules\n",
    "5. Different variations on `import`\n",
    "6. How do we develop a module?\n",
    "7. What happens when a module is imported?\n",
    "8. Python's standard library\n",
    "9. Packages and PyPI -- finding and downloading them onto your computer\n",
    "10. Using `pip`\n",
    "11. What's next?\n",
    "\n"
   ]
  },
  {
   "cell_type": "code",
   "execution_count": null,
   "id": "14e84017-9562-4c8b-971e-cd04c92cd6d5",
   "metadata": {},
   "outputs": [],
   "source": [
    "# Challenge solution\n",
    "\n",
    "# Write your code below...\n",
    "\n",
    "def count_ips(filename):\n",
    "    output = {}\n",
    "    for one_line in open(filename):\n",
    "\n",
    "        # turn the line into a list of strings, separating on whitespace\n",
    "        # grab the first field, at index 0-- the IP address\n",
    "        ip_address = one_line.split()[0]  \n",
    "\n",
    "        # have I seen this IP address already?\n",
    "        # If so, then just add 1 to its value\n",
    "\n",
    "        if ip_address in output:     # \"in\" on a dict checks the keys\n",
    "            output[ip_address] += 1\n",
    "        else:                        # first time seeing this IP address\n",
    "            output[ip_address] = 1\n",
    "\n",
    "    return output\n",
    "\n"
   ]
  }
 ],
 "metadata": {
  "kernelspec": {
   "display_name": "Python 3 (ipykernel)",
   "language": "python",
   "name": "python3"
  },
  "language_info": {
   "codemirror_mode": {
    "name": "ipython",
    "version": 3
   },
   "file_extension": ".py",
   "mimetype": "text/x-python",
   "name": "python",
   "nbconvert_exporter": "python",
   "pygments_lexer": "ipython3",
   "version": "3.11.4"
  }
 },
 "nbformat": 4,
 "nbformat_minor": 5
}
