{
 "cells": [
  {
   "cell_type": "markdown",
   "id": "2ccabbdb-1b11-4986-9245-d73c02966955",
   "metadata": {},
   "source": [
    "# Agenda, week 5: Modules and packages\n",
    "\n",
    "1. Review of the challenge\n",
    "2. Q&A\n",
    "3. What are modules?\n",
    "4. Using `import` to retrieve data from modules\n",
    "5. Different variations on `import`\n",
    "6. How do we develop a module?\n",
    "7. What happens when a module is imported?\n",
    "8. Python's standard library\n",
    "9. Packages and PyPI -- finding and downloading them onto your computer\n",
    "10. Using `pip`\n",
    "11. What's next?\n",
    "\n"
   ]
  },
  {
   "cell_type": "code",
   "execution_count": 1,
   "id": "14e84017-9562-4c8b-971e-cd04c92cd6d5",
   "metadata": {},
   "outputs": [],
   "source": [
    "# Challenge solution\n",
    "\n",
    "# Write your code below...\n",
    "\n",
    "def count_ips(filename):\n",
    "    output = {}\n",
    "    for one_line in open(filename):\n",
    "\n",
    "        # turn the line into a list of strings, separating on whitespace\n",
    "        # grab the first field, at index 0-- the IP address\n",
    "        ip_address = one_line.split()[0]  \n",
    "\n",
    "        # have I seen this IP address already?\n",
    "        # If so, then just add 1 to its value\n",
    "\n",
    "        if ip_address in output:     # \"in\" on a dict checks the keys\n",
    "            output[ip_address] += 1\n",
    "        else:                        # first time seeing this IP address\n",
    "            output[ip_address] = 1\n",
    "\n",
    "    return output\n",
    "\n"
   ]
  },
  {
   "cell_type": "code",
   "execution_count": 2,
   "id": "e3034f4f-4e2e-4a6d-922e-7cc25870c03a",
   "metadata": {},
   "outputs": [],
   "source": [
    "counts = count_ips('mini-access-log.txt')"
   ]
  },
  {
   "cell_type": "code",
   "execution_count": 5,
   "id": "48c3a14c-3914-4c99-a9f0-4a84acd10795",
   "metadata": {},
   "outputs": [
    {
     "name": "stdout",
     "output_type": "stream",
     "text": [
      "67.218.116.165:\t2\n",
      "66.249.71.65:\t3\n",
      "65.55.106.183:\t2\n",
      "66.249.65.12:\t32\n",
      "65.55.106.131:\t2\n",
      "65.55.106.186:\t2\n",
      "74.52.245.146:\t2\n",
      "66.249.65.43:\t3\n",
      "65.55.207.25:\t2\n",
      "65.55.207.94:\t2\n",
      "65.55.207.71:\t1\n",
      "98.242.170.241:\t1\n",
      "66.249.65.38:\t100\n",
      "65.55.207.126:\t2\n",
      "82.34.9.20:\t2\n",
      "65.55.106.155:\t2\n",
      "65.55.207.77:\t2\n",
      "208.80.193.28:\t1\n",
      "89.248.172.58:\t22\n",
      "67.195.112.35:\t16\n",
      "65.55.207.50:\t3\n",
      "65.55.215.75:\t2\n"
     ]
    }
   ],
   "source": [
    "# let's print this dict nicely!\n",
    "\n",
    "for key, value in counts.items():\n",
    "    print(f'{key}:\\t{value}')"
   ]
  },
  {
   "cell_type": "code",
   "execution_count": null,
   "id": "bf6e3cea-5ad3-4ae1-aecc-b7929fee78d5",
   "metadata": {},
   "outputs": [],
   "source": []
  }
 ],
 "metadata": {
  "kernelspec": {
   "display_name": "Python 3 (ipykernel)",
   "language": "python",
   "name": "python3"
  },
  "language_info": {
   "codemirror_mode": {
    "name": "ipython",
    "version": 3
   },
   "file_extension": ".py",
   "mimetype": "text/x-python",
   "name": "python",
   "nbconvert_exporter": "python",
   "pygments_lexer": "ipython3",
   "version": "3.11.4"
  }
 },
 "nbformat": 4,
 "nbformat_minor": 5
}
