{
 "cells": [
  {
   "cell_type": "markdown",
   "id": "9244239b-2c1f-4e78-993b-a9249494d29d",
   "metadata": {},
   "source": [
    "# Agenda, week 4: Functions\n",
    "\n",
    "1. Questions\n",
    "2. What are functions? Nouns vs. verbs in programming\n",
    "3. Running functions\n",
    "4. Writing functions\n",
    "5. Arguments and parameters\n",
    "6. Return values\n",
    "7. Default argument values\n",
    "8. Complex return values and unpacking\n",
    "9. Local vs. global variables\n",
    "\n",
    "Online Python challenge"
   ]
  },
  {
   "cell_type": "markdown",
   "id": "e326469f-371a-4624-9c51-f61490183e1f",
   "metadata": {},
   "source": [
    "# What are functions?\n",
    "\n",
    "Until now, we have mostly been discussing *data*. We've talked about data types, assigning to variables, and printing values. All of that is about the data, which we can think of as the nouns of the programming world.\n",
    "\n",
    "We've seen a bunch of functions and methods, as well. Those are the verbs of the programming world. If you want to know the length of a string, you can say\n",
    "\n",
    "    len(s)\n",
    "\n",
    "and we'll get a value back.\n",
    "\n",
    "We have seen many functions and many methods so far. Wouldn't it be nice if we could define our own functions? \n",
    "\n",
    "What would that give us?  Functions allow us to think at a higher level, to use abstraction.\n",
    "\n",
    "Abstraction is a very important idea in the world of engineering in general, and programming in particular. It allows us to wrap up a bunch of complex idea in a single word or phrase. Then, when we want to build on that idea, we can simply reference that word or phrase, and build something even more complex.\n",
    "\n"
   ]
  }
 ],
 "metadata": {
  "kernelspec": {
   "display_name": "Python 3 (ipykernel)",
   "language": "python",
   "name": "python3"
  },
  "language_info": {
   "codemirror_mode": {
    "name": "ipython",
    "version": 3
   },
   "file_extension": ".py",
   "mimetype": "text/x-python",
   "name": "python",
   "nbconvert_exporter": "python",
   "pygments_lexer": "ipython3",
   "version": "3.11.4"
  }
 },
 "nbformat": 4,
 "nbformat_minor": 5
}
