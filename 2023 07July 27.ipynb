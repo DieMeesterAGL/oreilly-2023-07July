{
 "cells": [
  {
   "cell_type": "markdown",
   "id": "9244239b-2c1f-4e78-993b-a9249494d29d",
   "metadata": {},
   "source": [
    "# Agenda, week 4: Functions\n",
    "\n",
    "1. Questions\n",
    "2. What are functions? Nouns vs. verbs in programming\n",
    "3. Running functions\n",
    "4. Writing functions\n",
    "5. Arguments and parameters\n",
    "6. Return values\n",
    "7. Default argument values\n",
    "8. Complex return values and unpacking\n",
    "9. Local vs. global variables\n",
    "\n",
    "Online Python challenge"
   ]
  },
  {
   "cell_type": "markdown",
   "id": "e326469f-371a-4624-9c51-f61490183e1f",
   "metadata": {},
   "source": [
    "# What are functions?\n",
    "\n",
    "Until now, we have mostly been discussing *data*. We've talked about data types, assigning to variables, and printing values. All of that is about the data, which we can think of as the nouns of the programming world.\n",
    "\n",
    "We've seen a bunch of functions and methods, as well. Those are the verbs of the programming world. If you want to know the length of a string, you can say\n",
    "\n",
    "    len(s)\n",
    "\n",
    "and we'll get a value back.\n",
    "\n",
    "We have seen many functions and many methods so far. Wouldn't it be nice if we could define our own functions? \n",
    "\n",
    "What would that give us?  Functions allow us to think at a higher level, to use abstraction.\n",
    "\n",
    "Abstraction is a very important idea in the world of engineering in general, and programming in particular. It allows us to wrap up a bunch of complex idea in a single word or phrase. Then, when we want to build on that idea, we can simply reference that word or phrase, and build something even more complex.\n",
    "\n",
    "When we define a function, we don't add new functionality to our computer or to its program. But we do make it easier for us to think about the functionality, to reason about it and how it works relative to other functions, and we can then build more complex functions on top of it.\n",
    "\n",
    "When we define a function, we are teaching Python a new vocabulary word, one which we can then use to execute commands, and which allows us to think at this higher level.\n",
    "\n",
    "To define a function in Python:\n",
    "\n",
    "- We use the reserved word `def`\n",
    "- After saying `def`, we give the function a name -- the name is traditionally all lowercase letters, with `_` between word, aka \"snake case\"\n",
    "- After the name, we have round parentheses -- these will be empty for now, but we will put parameters in them later\n",
    "- Then, on that first line, we end with `:`\n",
    "- After that, we have an indented block\n",
    "- When the indentation ends, the function definition ends\n",
    "- Inside of a function, you can have *any* Python code you want: `for` loops, `while` loops, `input`, `print`, operations of other sorts... anything at all\n",
    "\n",
    "Once the function is defined, then we can invoke it by using its name and round parentheses."
   ]
  },
  {
   "cell_type": "code",
   "execution_count": 2,
   "id": "b7a4c988-c9e3-443f-afbd-920784a53d6e",
   "metadata": {},
   "outputs": [],
   "source": [
    "def hello():\n",
    "    print('Hello!')\n",
    "    "
   ]
  },
  {
   "cell_type": "code",
   "execution_count": 3,
   "id": "dc7d5a63-7610-4e35-9ac6-3b1aab9bd1bf",
   "metadata": {},
   "outputs": [
    {
     "name": "stdout",
     "output_type": "stream",
     "text": [
      "Hello!\n"
     ]
    }
   ],
   "source": [
    "# now, after having executed the above cell, Python has a new verb it can run, namely \"hello\"\n",
    "\n",
    "hello()"
   ]
  },
  {
   "cell_type": "markdown",
   "id": "99501a3e-3371-42ba-a1f2-e934aa6c2f98",
   "metadata": {},
   "source": [
    "# Exercise: Simple calculator\n",
    "\n",
    "1. Define a function, `calc`, which will ask the user to enter two numbers and an operator (all separately), and will print the result on the screen.\n",
    "2. When someone calls the function, they will be asked three questions:\n",
    "    - What is the first number?\n",
    "    - What is the operator?\n",
    "    - What is the second number?\n",
    "3. Your function will know how to handle `+` and `-` (if you want, other things as well), and will then print the result of adding these two numbers together.\n",
    "\n",
    "Example:\n",
    "\n",
    "    calc()\n",
    "    Enter first number: 5\n",
    "    Enter operator: +\n",
    "    Enter second number: 7\n",
    "    5 + 7 = 12\n",
    "\n",
    "- You can assume that the user's input is numeric, but if you want to be fancy and check it, that's OK as well.\n",
    "- Don't forget that `input` always returns a string, which means that you need to use `int` to get an integer from it."
   ]
  },
  {
   "cell_type": "code",
   "execution_count": 7,
   "id": "05248040-3a2f-4077-889c-a4bde1af7d1e",
   "metadata": {},
   "outputs": [],
   "source": [
    "def calc():\n",
    "    n1 = input('Enter first number: ').strip()\n",
    "    op = input('Enter operator: ').strip()\n",
    "    n2 = input('Enter second number: ').strip()\n",
    "\n",
    "    n1 = int(n1)\n",
    "    n2 = int(n2)\n",
    "\n",
    "    if op == '+':           # if has a condition\n",
    "        result = n1 + n2\n",
    "    elif op == '-':         # elif has a condition\n",
    "        result = n1 - n2  \n",
    "    else:                   # else is the fallback/default -- if none of the others fired, then this will\n",
    "        result = f'Unsupported operator {op}!'\n",
    "\n",
    "    print(f'{n1} {op} {n2} = {result}')"
   ]
  },
  {
   "cell_type": "code",
   "execution_count": 8,
   "id": "13f60473-d652-4f9d-8da4-bae45b26c36f",
   "metadata": {},
   "outputs": [
    {
     "name": "stdin",
     "output_type": "stream",
     "text": [
      "Enter first number:  3\n",
      "Enter operator:  +\n",
      "Enter second number:  9\n"
     ]
    },
    {
     "name": "stdout",
     "output_type": "stream",
     "text": [
      "3 + 9 = 12\n"
     ]
    }
   ],
   "source": [
    "calc()"
   ]
  },
  {
   "cell_type": "code",
   "execution_count": null,
   "id": "5be366a0-36a2-49d8-8a60-310f5e24a919",
   "metadata": {},
   "outputs": [],
   "source": [
    "# A F\n",
    "\n",
    "def calc():\n",
    "    numone = input('Please enter the first number:').strip()\n",
    "    op = input('Please enter the operator:').strip()\n",
    "    numtwo = input('Please enter the second number:').strip()   \n",
    "    if op == '+':\n",
    "        print (int(numone) + int(numtwo))\n",
    "    if op == '-':\n",
    "        print (int(numone) - int(numtwo))"
   ]
  },
  {
   "cell_type": "markdown",
   "id": "5f1d2861-91e8-413f-972c-4d803c82728b",
   "metadata": {},
   "source": [
    "# The story so far\n",
    "\n",
    "We now know how to write a function.  When I define a function, I'm replacing any previous function that had that name. So if I want to go back and edit a function, and then define it (with shift-enter in Jupyter), that's totally fine.  The new version will overwrite the old version.\n",
    "\n",
    "If you're writing in an editor of some sort, then every time you run the program, you're getting a new definition of the function, so it's not an issue.\n",
    "\n",
    "Defining a function is *not* the same as running it:\n",
    "\n",
    "1. First, you define it\n",
    "2. Then, you run it (using parentheses)\n",
    "\n",
    "In some programming languages, it's OK (and even traditional) to define functions at the bottom of a file, and then call them at the top of the file. That **WILL NOT WORK** in Python. First, you define the functions and then you execute the functions."
   ]
  },
  {
   "cell_type": "code",
   "execution_count": 10,
   "id": "84769de7-69b6-4809-8b84-e39ddae6c120",
   "metadata": {},
   "outputs": [
    {
     "name": "stdin",
     "output_type": "stream",
     "text": [
      "Enter first number:  10\n",
      "Enter operator:  *\n",
      "Enter second number:  3\n"
     ]
    },
    {
     "name": "stdout",
     "output_type": "stream",
     "text": [
      "10 * 3 = Unsupported operator *!\n"
     ]
    }
   ],
   "source": [
    "# first, the definition\n",
    "\n",
    "def calc():\n",
    "    n1 = input('Enter first number: ').strip()\n",
    "    op = input('Enter operator: ').strip()\n",
    "    n2 = input('Enter second number: ').strip()\n",
    "\n",
    "    n1 = int(n1)\n",
    "    n2 = int(n2)\n",
    "\n",
    "    if op == '+':           # if has a condition\n",
    "        result = n1 + n2\n",
    "    elif op == '-':         # elif has a condition\n",
    "        result = n1 - n2  \n",
    "    else:                   # else is the fallback/default -- if none of the others fired, then this will\n",
    "        result = f'Unsupported operator {op}!'\n",
    "\n",
    "    print(f'{n1} {op} {n2} = {result}')\n",
    "\n",
    "# then, the invocation\n",
    "calc()"
   ]
  },
  {
   "cell_type": "markdown",
   "id": "90a838e2-00cf-4f6d-af95-8f6f259a0d10",
   "metadata": {},
   "source": [
    "# This is annoying!\n",
    "\n",
    "Every time I want to calculate numbers, I not only need to invoke `calc`, but I need to be sitting in front of the computer and type the numbers and the operator.\n",
    "\n",
    "There must be a better way to do this, such that I can pass values to the function without having to type them (or get them from a file, or get them from the network, etc.)\n",
    "\n",
    "Of course this is the case, and we've seen it already -- we can pass *arguments* to functions. Those are values that are then assigned to *parameters*, variables that expect to get values passed to them."
   ]
  },
  {
   "cell_type": "code",
   "execution_count": 11,
   "id": "7a2890d2-1231-446d-8963-53bf07ec7f37",
   "metadata": {},
   "outputs": [
    {
     "data": {
      "text/plain": [
       "4"
      ]
     },
     "execution_count": 11,
     "metadata": {},
     "output_type": "execute_result"
    }
   ],
   "source": [
    "# example 1: len\n",
    "\n",
    "len('abcd')   # we're passing the string 'abcd' as an argument to \"len\""
   ]
  },
  {
   "cell_type": "code",
   "execution_count": 12,
   "id": "17c14a2f-8138-4f3f-866b-1a5385ce563f",
   "metadata": {},
   "outputs": [
    {
     "name": "stdin",
     "output_type": "stream",
     "text": [
      "Enter a string:  asdfafd\n"
     ]
    }
   ],
   "source": [
    "# example 2: input\n",
    "\n",
    "s = input('Enter a string: ')   # we're passing the string 'Enter a string' to \"input\" as an argument"
   ]
  },
  {
   "cell_type": "code",
   "execution_count": 13,
   "id": "6537bdf1-65ab-4613-b8a5-aaee8962fedb",
   "metadata": {},
   "outputs": [
    {
     "name": "stdout",
     "output_type": "stream",
     "text": [
      "Hello!\n"
     ]
    }
   ],
   "source": [
    "# what happens now if I call \"hello\" with an argument?\n",
    "\n",
    "hello()"
   ]
  },
  {
   "cell_type": "code",
   "execution_count": 14,
   "id": "e5449882-2d2f-424a-a1ed-f83881574922",
   "metadata": {},
   "outputs": [
    {
     "ename": "TypeError",
     "evalue": "hello() takes 0 positional arguments but 1 was given",
     "output_type": "error",
     "traceback": [
      "\u001b[0;31m---------------------------------------------------------------------------\u001b[0m",
      "\u001b[0;31mTypeError\u001b[0m                                 Traceback (most recent call last)",
      "Cell \u001b[0;32mIn[14], line 1\u001b[0m\n\u001b[0;32m----> 1\u001b[0m \u001b[43mhello\u001b[49m\u001b[43m(\u001b[49m\u001b[38;5;124;43m'\u001b[39;49m\u001b[38;5;124;43mworld\u001b[39;49m\u001b[38;5;124;43m'\u001b[39;49m\u001b[43m)\u001b[49m\n",
      "\u001b[0;31mTypeError\u001b[0m: hello() takes 0 positional arguments but 1 was given"
     ]
    }
   ],
   "source": [
    "hello('world')"
   ]
  },
  {
   "cell_type": "code",
   "execution_count": 15,
   "id": "03a51d29-e32e-4128-9a81-7f03ae3c863e",
   "metadata": {},
   "outputs": [],
   "source": [
    "def hello():            # empty parentheses after the function name means: no arguments\n",
    "    print('Hello!')"
   ]
  },
  {
   "cell_type": "code",
   "execution_count": 16,
   "id": "02d00c04-0dbf-4e3a-ad8a-28348b3a7705",
   "metadata": {},
   "outputs": [
    {
     "name": "stdout",
     "output_type": "stream",
     "text": [
      "Hello!\n"
     ]
    }
   ],
   "source": [
    "hello()"
   ]
  },
  {
   "cell_type": "code",
   "execution_count": 17,
   "id": "e7b4e00c-44a0-468b-bd4d-37a0ac9c9cc9",
   "metadata": {},
   "outputs": [],
   "source": [
    "# we can change this by re-defining our function, such that it takes one argument\n",
    "# we do this by adding a *parameter* name inside of the parentheses\n",
    "\n",
    "# arguments -- values we pass when we call a function\n",
    "# parameters -- variables we declare in a function definition, and which get arguments when the function is run\n",
    "\n",
    "def hello(name):\n",
    "    print(f'Hello, {name}!')"
   ]
  },
  {
   "cell_type": "code",
   "execution_count": 18,
   "id": "35c97271-5d2f-4131-a01b-041d128cd95d",
   "metadata": {},
   "outputs": [
    {
     "ename": "TypeError",
     "evalue": "hello() missing 1 required positional argument: 'name'",
     "output_type": "error",
     "traceback": [
      "\u001b[0;31m---------------------------------------------------------------------------\u001b[0m",
      "\u001b[0;31mTypeError\u001b[0m                                 Traceback (most recent call last)",
      "Cell \u001b[0;32mIn[18], line 7\u001b[0m\n\u001b[1;32m      1\u001b[0m \u001b[38;5;66;03m# I have now defined the function \"hello\" twice:\u001b[39;00m\n\u001b[1;32m      2\u001b[0m \u001b[38;5;66;03m# - once with zero parameters\u001b[39;00m\n\u001b[1;32m      3\u001b[0m \u001b[38;5;66;03m# - once with one parameter\u001b[39;00m\n\u001b[1;32m      4\u001b[0m \n\u001b[1;32m      5\u001b[0m \u001b[38;5;66;03m# both cannot exist at the same time! The later definition wins. The earlier one is gone.\u001b[39;00m\n\u001b[0;32m----> 7\u001b[0m \u001b[43mhello\u001b[49m\u001b[43m(\u001b[49m\u001b[43m)\u001b[49m  \u001b[38;5;66;03m# try with zero arguments\u001b[39;00m\n",
      "\u001b[0;31mTypeError\u001b[0m: hello() missing 1 required positional argument: 'name'"
     ]
    }
   ],
   "source": [
    "# I have now defined the function \"hello\" twice:\n",
    "# - once with zero parameters\n",
    "# - once with one parameter\n",
    "\n",
    "# both cannot exist at the same time! The later definition wins. The earlier one is gone.\n",
    "\n",
    "hello()  # try with zero arguments"
   ]
  },
  {
   "cell_type": "code",
   "execution_count": 19,
   "id": "8610d861-5c65-40db-a3b4-6cacdfdf49b9",
   "metadata": {},
   "outputs": [
    {
     "name": "stdout",
     "output_type": "stream",
     "text": [
      "Hello, world!\n"
     ]
    }
   ],
   "source": [
    "hello('world')   # the argument 'world' is assigned to the parameter \"name\""
   ]
  },
  {
   "cell_type": "code",
   "execution_count": 20,
   "id": "4222d916-f65b-4d0c-b22c-6177829faa28",
   "metadata": {},
   "outputs": [
    {
     "ename": "NameError",
     "evalue": "name 'name' is not defined",
     "output_type": "error",
     "traceback": [
      "\u001b[0;31m---------------------------------------------------------------------------\u001b[0m",
      "\u001b[0;31mNameError\u001b[0m                                 Traceback (most recent call last)",
      "Cell \u001b[0;32mIn[20], line 1\u001b[0m\n\u001b[0;32m----> 1\u001b[0m \u001b[38;5;28mprint\u001b[39m(\u001b[43mname\u001b[49m)   \u001b[38;5;66;03m# what about outside of the function?\u001b[39;00m\n",
      "\u001b[0;31mNameError\u001b[0m: name 'name' is not defined"
     ]
    }
   ],
   "source": [
    "print(name)   # what about outside of the function?"
   ]
  },
  {
   "cell_type": "markdown",
   "id": "82f69288-9f93-44f4-998c-27bee9549a16",
   "metadata": {},
   "source": [
    "# Sneak preview of local variables\n",
    "\n",
    "Any variable you define in a function does not exist outside of the function!  It is *local*."
   ]
  },
  {
   "cell_type": "markdown",
   "id": "a1059c1c-124b-4fcd-8a33-b9bb39b48b57",
   "metadata": {},
   "source": [
    "# Exercise: Better calc (with arguments!)\n",
    "\n",
    "1. Rewrite the `calc` function such that it takes three arguments -- `n1`, `op`, and `n2`.\n",
    "2. It should no longer ask the user for any inputs\n",
    "3. It should still produce the same outputs as before.\n",
    "\n",
    "Example:\n",
    "\n",
    "    calc(3, '+', 5)   # should print \"3 + 5 = 8\""
   ]
  },
  {
   "cell_type": "code",
   "execution_count": 21,
   "id": "9b08dbd6-a596-47da-ae05-dcc96b7d4bbf",
   "metadata": {},
   "outputs": [],
   "source": [
    "def calc(n1, op, n2):\n",
    "    if op == '+':\n",
    "        result = n1 + n2\n",
    "    elif op == '-':\n",
    "        result = n1 - n2\n",
    "    else:\n",
    "        result = f'Bad op {op}'\n",
    "\n",
    "    print(f'{n1} {op} {n2} = {result}')"
   ]
  },
  {
   "cell_type": "code",
   "execution_count": 22,
   "id": "5077f483-bceb-44c6-8ddd-72f529c89ee4",
   "metadata": {},
   "outputs": [
    {
     "name": "stdout",
     "output_type": "stream",
     "text": [
      "2 + 3 = 5\n"
     ]
    }
   ],
   "source": [
    "calc(2, '+', 3)"
   ]
  },
  {
   "cell_type": "code",
   "execution_count": 23,
   "id": "8c4d6376-f5c3-4cd7-b57f-8cc8fd1682a1",
   "metadata": {},
   "outputs": [
    {
     "name": "stdout",
     "output_type": "stream",
     "text": [
      "2 - 10 = -8\n"
     ]
    }
   ],
   "source": [
    "calc(2, '-', 10)"
   ]
  },
  {
   "cell_type": "code",
   "execution_count": 24,
   "id": "867d501b-8d7e-42bc-8c46-8cef9b2b453e",
   "metadata": {},
   "outputs": [
    {
     "name": "stdout",
     "output_type": "stream",
     "text": [
      "2.5 - 3.8 = -1.2999999999999998\n"
     ]
    }
   ],
   "source": [
    "calc(2.5, '-', 3.8)"
   ]
  },
  {
   "cell_type": "code",
   "execution_count": 25,
   "id": "ea5d49e3-0086-4006-949e-79364d863863",
   "metadata": {
    "scrolled": true
   },
   "outputs": [
    {
     "ename": "TypeError",
     "evalue": "calc() missing 1 required positional argument: 'n2'",
     "output_type": "error",
     "traceback": [
      "\u001b[0;31m---------------------------------------------------------------------------\u001b[0m",
      "\u001b[0;31mTypeError\u001b[0m                                 Traceback (most recent call last)",
      "Cell \u001b[0;32mIn[25], line 1\u001b[0m\n\u001b[0;32m----> 1\u001b[0m \u001b[43mcalc\u001b[49m\u001b[43m(\u001b[49m\u001b[38;5;241;43m3\u001b[39;49m\u001b[43m,\u001b[49m\u001b[43m \u001b[49m\u001b[38;5;124;43m'\u001b[39;49m\u001b[38;5;124;43m+\u001b[39;49m\u001b[38;5;124;43m'\u001b[39;49m\u001b[43m)\u001b[49m\n",
      "\u001b[0;31mTypeError\u001b[0m: calc() missing 1 required positional argument: 'n2'"
     ]
    }
   ],
   "source": [
    "calc(3, '+')"
   ]
  },
  {
   "cell_type": "code",
   "execution_count": 26,
   "id": "cbd9ad0f-3e71-4d4e-9d3a-dc0710472b07",
   "metadata": {},
   "outputs": [
    {
     "name": "stdout",
     "output_type": "stream",
     "text": [
      "3 + 2 = 5\n"
     ]
    }
   ],
   "source": [
    "calc(int('3'), '+', int('2'))  # Python sees this as the same as calc(3, '+', 2)"
   ]
  },
  {
   "cell_type": "markdown",
   "id": "639bb87b-b143-428c-8950-3f2a470c1f9c",
   "metadata": {},
   "source": [
    "# Positional vs. keyword arguments\n",
    "\n"
   ]
  }
 ],
 "metadata": {
  "kernelspec": {
   "display_name": "Python 3 (ipykernel)",
   "language": "python",
   "name": "python3"
  },
  "language_info": {
   "codemirror_mode": {
    "name": "ipython",
    "version": 3
   },
   "file_extension": ".py",
   "mimetype": "text/x-python",
   "name": "python",
   "nbconvert_exporter": "python",
   "pygments_lexer": "ipython3",
   "version": "3.11.4"
  }
 },
 "nbformat": 4,
 "nbformat_minor": 5
}
