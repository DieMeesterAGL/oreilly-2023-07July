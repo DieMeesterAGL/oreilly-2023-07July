{
 "cells": [
  {
   "cell_type": "markdown",
   "id": "9244239b-2c1f-4e78-993b-a9249494d29d",
   "metadata": {},
   "source": [
    "# Agenda, week 4: Functions\n",
    "\n",
    "1. Questions\n",
    "2. What are functions? Nouns vs. verbs in programming\n",
    "3. Running functions\n",
    "4. Writing functions\n",
    "5. Arguments and parameters\n",
    "6. Return values\n",
    "7. Default argument values\n",
    "8. Complex return values and unpacking\n",
    "9. Local vs. global variables\n",
    "\n",
    "Online Python challenge"
   ]
  },
  {
   "cell_type": "markdown",
   "id": "e326469f-371a-4624-9c51-f61490183e1f",
   "metadata": {},
   "source": [
    "# What are functions?\n",
    "\n",
    "Until now, we have mostly been discussing *data*. We've talked about data types, assigning to variables, and printing values. All of that is about the data, which we can think of as the nouns of the programming world.\n",
    "\n",
    "We've seen a bunch of functions and methods, as well. Those are the verbs of the programming world. If you want to know the length of a string, you can say\n",
    "\n",
    "    len(s)\n",
    "\n",
    "and we'll get a value back.\n",
    "\n",
    "We have seen many functions and many methods so far. Wouldn't it be nice if we could define our own functions? \n",
    "\n",
    "What would that give us?  Functions allow us to think at a higher level, to use abstraction.\n",
    "\n",
    "Abstraction is a very important idea in the world of engineering in general, and programming in particular. It allows us to wrap up a bunch of complex idea in a single word or phrase. Then, when we want to build on that idea, we can simply reference that word or phrase, and build something even more complex.\n",
    "\n",
    "When we define a function, we don't add new functionality to our computer or to its program. But we do make it easier for us to think about the functionality, to reason about it and how it works relative to other functions, and we can then build more complex functions on top of it.\n",
    "\n",
    "When we define a function, we are teaching Python a new vocabulary word, one which we can then use to execute commands, and which allows us to think at this higher level.\n",
    "\n",
    "To define a function in Python:\n",
    "\n",
    "- We use the reserved word `def`\n",
    "- After saying `def`, we give the function a name -- the name is traditionally all lowercase letters, with `_` between word, aka \"snake case\"\n",
    "- After the name, we have round parentheses -- these will be empty for now, but we will put parameters in them later\n",
    "- Then, on that first line, we end with `:`\n",
    "- After that, we have an indented block\n",
    "- When the indentation ends, the function definition ends\n",
    "- Inside of a function, you can have *any* Python code you want: `for` loops, `while` loops, `input`, `print`, operations of other sorts... anything at all\n",
    "\n",
    "Once the function is defined, then we can invoke it by using its name and round parentheses."
   ]
  },
  {
   "cell_type": "code",
   "execution_count": 2,
   "id": "b7a4c988-c9e3-443f-afbd-920784a53d6e",
   "metadata": {},
   "outputs": [],
   "source": [
    "def hello():\n",
    "    print('Hello!')\n",
    "    "
   ]
  },
  {
   "cell_type": "code",
   "execution_count": 3,
   "id": "dc7d5a63-7610-4e35-9ac6-3b1aab9bd1bf",
   "metadata": {},
   "outputs": [
    {
     "name": "stdout",
     "output_type": "stream",
     "text": [
      "Hello!\n"
     ]
    }
   ],
   "source": [
    "# now, after having executed the above cell, Python has a new verb it can run, namely \"hello\"\n",
    "\n",
    "hello()"
   ]
  },
  {
   "cell_type": "markdown",
   "id": "99501a3e-3371-42ba-a1f2-e934aa6c2f98",
   "metadata": {},
   "source": [
    "# Exercise: Simple calculator\n",
    "\n",
    "1. Define a function, `calc`, which will ask the user to enter two numbers and an operator (all separately), and will print the result on the screen.\n",
    "2. When someone calls the function, they will be asked three questions:\n",
    "    - What is the first number?\n",
    "    - What is the operator?\n",
    "    - What is the second number?\n",
    "3. Your function will know how to handle `+` and `-` (if you want, other things as well), and will then print the result of adding these two numbers together.\n",
    "\n",
    "Example:\n",
    "\n",
    "    calc()\n",
    "    Enter first number: 5\n",
    "    Enter operator: +\n",
    "    Enter second number: 7\n",
    "    5 + 7 = 12\n",
    "\n",
    "- You can assume that the user's input is numeric, but if you want to be fancy and check it, that's OK as well.\n",
    "- Don't forget that `inp"
   ]
  }
 ],
 "metadata": {
  "kernelspec": {
   "display_name": "Python 3 (ipykernel)",
   "language": "python",
   "name": "python3"
  },
  "language_info": {
   "codemirror_mode": {
    "name": "ipython",
    "version": 3
   },
   "file_extension": ".py",
   "mimetype": "text/x-python",
   "name": "python",
   "nbconvert_exporter": "python",
   "pygments_lexer": "ipython3",
   "version": "3.11.4"
  }
 },
 "nbformat": 4,
 "nbformat_minor": 5
}
